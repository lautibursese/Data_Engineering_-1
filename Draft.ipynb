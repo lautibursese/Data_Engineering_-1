{
 "cells": [
  {
   "cell_type": "code",
   "execution_count": 22,
   "metadata": {},
   "outputs": [],
   "source": [
    "import pandas as pd\n",
    "import numpy as np"
   ]
  },
  {
   "cell_type": "code",
   "execution_count": 23,
   "metadata": {},
   "outputs": [],
   "source": [
    "amazon_prime = pd.read_csv('C:/Users/Predator/Desktop/Lauti/Programación/GitHub/1. Data Engineering/#1/Datasets/amazon_prime_titles.csv', sep=',')\n",
    "disney_plus = pd.read_csv('C:/Users/Predator/Desktop/Lauti/Programación/GitHub/1. Data Engineering/#1/Datasets/disney_plus_titles.csv', sep=',')\n",
    "hulu = pd.read_csv('C:/Users/Predator/Desktop/Lauti/Programación/GitHub/1. Data Engineering/#1/Datasets/hulu_titles.csv', sep=',')\n",
    "netflix = pd.read_json('C:/Users/Predator/Desktop/Lauti/Programación/GitHub/1. Data Engineering/#1/Datasets/netflix_titles.json')"
   ]
  },
  {
   "cell_type": "code",
   "execution_count": 24,
   "metadata": {},
   "outputs": [],
   "source": [
    "#Column asignation\n",
    "amazon_prime['Plataforma'] = 'Amazon_Prime'\n",
    "disney_plus['Plataforma'] = 'Disney_Plus'\n",
    "hulu['Plataforma'] = 'Hulu'\n",
    "netflix['Plataforma'] = 'Netflix'"
   ]
  },
  {
   "cell_type": "code",
   "execution_count": 25,
   "metadata": {},
   "outputs": [],
   "source": [
    "df_definitive = pd.concat([amazon_prime, disney_plus, hulu, netflix], axis=0)"
   ]
  },
  {
   "cell_type": "code",
   "execution_count": 26,
   "metadata": {},
   "outputs": [],
   "source": [
    "df_definitive['director'].fillna('no data', inplace=True)\n",
    "df_definitive['cast'].fillna('no data', inplace=True)\n",
    "df_definitive['country'].fillna('no data', inplace=True)\n",
    "df_definitive['date_added'].fillna('no data', inplace=True)\n",
    "df_definitive['rating'].fillna('no data', inplace=True)\n",
    "df_definitive['description'].fillna('no data', inplace=True)"
   ]
  },
  {
   "cell_type": "code",
   "execution_count": 27,
   "metadata": {},
   "outputs": [
    {
     "data": {
      "text/plain": [
       "array(['no data', '13+', 'ALL', '18+', 'R', 'TV-Y', 'TV-Y7', 'NR', '16+',\n",
       "       'TV-PG', '7+', 'TV-14', 'TV-NR', 'TV-G', 'PG-13', 'TV-MA', 'G',\n",
       "       'PG', 'NC-17', 'UNRATED', '16', 'AGES_16_', 'AGES_18_', 'ALL_AGES',\n",
       "       'NOT_RATE', 'TV-Y7-FV', 'NOT RATED', '2 Seasons', '93 min',\n",
       "       '4 Seasons', '136 min', '91 min', '85 min', '98 min', '89 min',\n",
       "       '94 min', '86 min', '3 Seasons', '121 min', '88 min', '101 min',\n",
       "       '1 Season', '83 min', '100 min', '95 min', '92 min', '96 min',\n",
       "       '109 min', '99 min', '75 min', '87 min', '67 min', '104 min',\n",
       "       '107 min', '84 min', '103 min', '105 min', '119 min', '114 min',\n",
       "       '82 min', '90 min', '130 min', '110 min', '80 min', '6 Seasons',\n",
       "       '97 min', '111 min', '81 min', '49 min', '45 min', '41 min',\n",
       "       '73 min', '40 min', '36 min', '39 min', '34 min', '47 min',\n",
       "       '65 min', '37 min', '78 min', '102 min', '129 min', '115 min',\n",
       "       '112 min', '61 min', '106 min', '76 min', '77 min', '79 min',\n",
       "       '157 min', '28 min', '64 min', '7 min', '5 min', '6 min',\n",
       "       '127 min', '142 min', '108 min', '57 min', '118 min', '116 min',\n",
       "       '12 Seasons', '71 min', '74 min', '66 min', 'UR'], dtype=object)"
      ]
     },
     "execution_count": 27,
     "metadata": {},
     "output_type": "execute_result"
    }
   ],
   "source": [
    "df_definitive['rating'].unique()"
   ]
  },
  {
   "cell_type": "code",
   "execution_count": 28,
   "metadata": {},
   "outputs": [],
   "source": [
    "mask = df_definitive['rating'].str.contains('min')\n",
    "df_definitive.loc[mask, 'duration'] = df_definitive.loc[mask]['rating']\n",
    "df_definitive.loc[mask, 'rating'] = 'no data'\n",
    "mask2 = df_definitive['rating'].str.contains('eason')\n",
    "df_definitive.loc[mask2, 'duration'] = df_definitive.loc[mask]['rating']\n",
    "df_definitive.loc[mask2, 'rating'] = 'no data'\n",
    "df_definitive.fillna('no data', inplace=True)"
   ]
  },
  {
   "cell_type": "code",
   "execution_count": 29,
   "metadata": {},
   "outputs": [],
   "source": [
    "#Data normalization\n",
    "df_definitive.columns = (['ID', 'Type', 'Tittle', 'Director', 'Cast', 'Country', 'Date_Added', 'Release_Year', 'Rating', 'Duration', 'Listed_in', 'Description', 'Platform'])"
   ]
  },
  {
   "cell_type": "code",
   "execution_count": 30,
   "metadata": {},
   "outputs": [],
   "source": [
    "#Criteria unification\n",
    "df_definitive['Rating'] = df_definitive['Rating'].replace({'no data'}, 'UNRATED')\n",
    "df_definitive['Rating'] = df_definitive['Rating'].replace({'NOT_RATE'}, 'UNRATED')\n",
    "df_definitive['Rating'] = df_definitive['Rating'].replace({'NOT RATED'}, 'UNRATED')\n",
    "df_definitive['Rating'] = df_definitive['Rating'].replace({'NR'}, 'UNRATED')\n",
    "df_definitive['Rating'] = df_definitive['Rating'].replace({'UR'}, 'UNRATED')"
   ]
  },
  {
   "cell_type": "code",
   "execution_count": 31,
   "metadata": {},
   "outputs": [],
   "source": [
    "#Criteria modification\n",
    "maskkk = df_definitive['Duration'].str.contains('min')\n",
    "maskkk2 = df_definitive['Duration'].str.contains('Season')\n",
    "df_definitive.loc[maskkk, 'Duration'] = df_definitive.loc[maskkk, 'Duration'].str[0:-4].astype(int)\n",
    "df_definitive.loc[maskkk2, 'Duration'] = df_definitive[maskkk2]['Duration'].str[0:-7].astype(int)"
   ]
  },
  {
   "cell_type": "code",
   "execution_count": 32,
   "metadata": {},
   "outputs": [
    {
     "data": {
      "text/plain": [
       "{1949: 157}"
      ]
     },
     "execution_count": 32,
     "metadata": {},
     "output_type": "execute_result"
    }
   ],
   "source": [
    "def get_max_duration(year=int, platform=str, min_or_season=str):\n",
    "    mask_movie = df_definitive['Type'] == 'Movie'\n",
    "    mask_season = df_definitive['Type'] == 'TV Show'\n",
    "    mask1 = df_definitive['Release_Year'] == year\n",
    "    mask2 = df_definitive['Platform'] == platform\n",
    "    mask3 = df_definitive['Duration'].str.contains('data') != True\n",
    "    if min_or_season == \"season\":\n",
    "        print(df_definitive.loc[mask1&mask2&mask_season, 'Duration'].sort_values().tail(1).to_dict())\n",
    "    else:\n",
    "        return df_definitive[mask1&mask2&mask3&mask_movie].sort_values('Duration')['Duration'].tail(1).to_dict()\n",
    "\n",
    "get_max_duration(2018, \"Hulu\", \"min\")"
   ]
  },
  {
   "cell_type": "code",
   "execution_count": 33,
   "metadata": {},
   "outputs": [
    {
     "name": "stdout",
     "output_type": "stream",
     "text": [
      "7814 peliculas y 1854 series\n"
     ]
    }
   ],
   "source": [
    "def get_count_platform(platform):\n",
    "    mask1 = df_definitive['Platform'] == platform\n",
    "    mask_movie = df_definitive['Type'] == 'Movie'\n",
    "    mask_season = df_definitive['Type'] == 'TV Show'\n",
    "    if type(platform) != str:\n",
    "        print('Please enter a string value: \"Amazon_Prime\", \"Disney_Plus\", \"Hulu\" or \"Netflix\"')\n",
    "    else:\n",
    "        return print(df_definitive[mask1&mask_movie].count()[0].tolist(), 'peliculas y', df_definitive[mask1&mask_season].count()[0], 'series')\n",
    "\n",
    "get_count_platform(\"Amazon_Prime\")"
   ]
  },
  {
   "cell_type": "code",
   "execution_count": 34,
   "metadata": {},
   "outputs": [
    {
     "data": {
      "text/plain": [
       "'Amazon Prime has 2099, Disney Plus 526, Hulu 667 and Netflix 399'"
      ]
     },
     "execution_count": 34,
     "metadata": {},
     "output_type": "execute_result"
    }
   ],
   "source": [
    "def get_listedin(genre):\n",
    "    mas = df_definitive['Listed_in'].str.contains(genre, case=False)\n",
    "    mas_amazonprime = df_definitive['Platform'] == 'Amazon_Prime'\n",
    "    mas_disneyplus = df_definitive['Platform'] == 'Disney_Plus'\n",
    "    mas_hulu = df_definitive['Platform'] == 'Hulu'\n",
    "    mas_netflix = df_definitive['Platform'] == 'Netflix'\n",
    "    if type(genre) != str:\n",
    "        print('Please enter a string value')\n",
    "    else:\n",
    "        return f\"Amazon Prime has {df_definitive[mas&mas_amazonprime].count()[0]}, Disney Plus {df_definitive[mas&mas_disneyplus].count()[0]}, Hulu {df_definitive[mas&mas_hulu].count()[0]} and Netflix {df_definitive[mas&mas_netflix].count()[0]}\"\n",
    "    \n",
    "get_listedin('comedy')"
   ]
  },
  {
   "cell_type": "code",
   "execution_count": 55,
   "metadata": {},
   "outputs": [
    {
     "data": {
      "text/plain": [
       "\"The two actors who repeat themselves the most are [('no data', 270)]\""
      ]
     },
     "execution_count": 55,
     "metadata": {},
     "output_type": "execute_result"
    }
   ],
   "source": [
    "from collections import Counter\n",
    "import itertools\n",
    "\n",
    "def get_actor(platform:str, year:int):\n",
    "    draft = itertools.chain(*df_definitive['Cast'].str.split(','))\n",
    "    hello = Counter(list(draft)).most_common()[1]\n",
    "    mas_platform = df_definitive['Platform'] == platform\n",
    "    mas_year = df_definitive['Release_Year'] == year\n",
    "    draft2 = list(itertools.chain(*df_definitive[mas_platform&mas_year]['Cast'].str.split(',')))\n",
    "    return f\"The two actors who repeat themselves the most are {Counter(draft2).most_common()[0:2]}\"\n",
    "\n",
    "get_actor('Hulu', 2018)"
   ]
  },
  {
   "cell_type": "code",
   "execution_count": 92,
   "metadata": {},
   "outputs": [
    {
     "data": {
      "text/plain": [
       "\"The two actors who repeat themselves the most are [(' Miyuki Sawashiro', 5), ('Mike Smith', 4)]\""
      ]
     },
     "execution_count": 92,
     "metadata": {},
     "output_type": "execute_result"
    }
   ],
   "source": [
    "def get_actor(platform:str, year:int):\n",
    "    mas_platform = df_definitive['Platform'] == platform\n",
    "    mas_year = df_definitive['Release_Year'] == year\n",
    "    mas_nodata = df_definitive['Cast'].str.contains('no data') != True\n",
    "    draft2 = list(itertools.chain(*df_definitive.loc[mas_platform&mas_year&mas_nodata, 'Cast'].str.split(',')))\n",
    "    return f\"The two actors who repeat themselves the most are {Counter(draft2).most_common()[0:2]}\"\n",
    "\n",
    "get_actor('Netflix', 2014)"
   ]
  }
 ],
 "metadata": {
  "kernelspec": {
   "display_name": "Python 3",
   "language": "python",
   "name": "python3"
  },
  "language_info": {
   "codemirror_mode": {
    "name": "ipython",
    "version": 3
   },
   "file_extension": ".py",
   "mimetype": "text/x-python",
   "name": "python",
   "nbconvert_exporter": "python",
   "pygments_lexer": "ipython3",
   "version": "3.10.10"
  },
  "orig_nbformat": 4,
  "vscode": {
   "interpreter": {
    "hash": "008d70041ca7fb51a5f1755eb9d1faba7e70bad3f28ecdf251d2d20b3ac992b0"
   }
  }
 },
 "nbformat": 4,
 "nbformat_minor": 2
}
